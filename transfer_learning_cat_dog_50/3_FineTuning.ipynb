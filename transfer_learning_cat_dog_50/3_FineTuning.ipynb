{
  "cells": [
    {
      "cell_type": "code",
      "execution_count": 1,
      "id": "d4e45a49-974f-4f9c-8642-42e2c45aab71",
      "metadata": {
        "id": "d4e45a49-974f-4f9c-8642-42e2c45aab71"
      },
      "outputs": [],
      "source": [
        "import torch\n",
        "from torchvision import datasets, transforms\n",
        "import torch.nn as nn\n",
        "import torch.nn.functional as F\n",
        "\n",
        "import numpy as np\n",
        "import matplotlib.pyplot as plt\n",
        "\n",
        "from torchvision.datasets import CIFAR10\n",
        "from torch.utils.data import DataLoader\n",
        "from torch.optim import Adam\n",
        "import torchvision\n",
        "import torchvision.models as models\n",
        "from torchsummary import summary\n",
        "\n",
        "torch.manual_seed(1)\n",
        "device = 'cuda' if torch.cuda.is_available() else 'cpu'"
      ]
    },
    {
      "cell_type": "code",
      "execution_count": null,
      "id": "42432066-6cf0-416b-961a-adb1e3217204",
      "metadata": {
        "id": "42432066-6cf0-416b-961a-adb1e3217204"
      },
      "outputs": [],
      "source": []
    },
    {
      "cell_type": "markdown",
      "id": "f913360b-019e-4d69-a540-b7b5715544e1",
      "metadata": {
        "id": "f913360b-019e-4d69-a540-b7b5715544e1"
      },
      "source": [
        "## Data"
      ]
    },
    {
      "cell_type": "code",
      "execution_count": 3,
      "id": "3ad21976-2d99-49b7-b0b5-84e9ebcd371e",
      "metadata": {
        "id": "3ad21976-2d99-49b7-b0b5-84e9ebcd371e"
      },
      "outputs": [],
      "source": [
        "train_transform = transforms.Compose(\n",
        "    [\n",
        "        transforms.Resize((224, 224)),   # Resize images to a fixed size\n",
        "        transforms.ToTensor(),           # Convert images to PyTorch tensors\n",
        "        transforms.Normalize(mean=[0.485, 0.456, 0.406],\n",
        "                             std=[0.229, 0.224, 0.225]),\n",
        "        transforms.RandomErasing(p=0.75,\n",
        "                                 scale=(0.01, 0.3),\n",
        "                                 ratio=(1.0, 1.0),\n",
        "                                 value=0,\n",
        "                                 inplace =True)\n",
        "    ])\n",
        "\n",
        "test_transform = transforms.Compose([\n",
        "    transforms.Resize((224, 224)),   # Resize images to a fixed size\n",
        "    transforms.ToTensor(),           # Convert images to PyTorch tensors\n",
        "    transforms.Normalize(mean=[0.485, 0.456, 0.406],\n",
        "                         std=[0.229, 0.224, 0.225]) # Normalize\n",
        "])\n",
        "\n",
        "# Load datasets\n",
        "train_dataset = datasets.ImageFolder('../data50/train', transform=train_transform)\n",
        "test_dataset = datasets.ImageFolder('../data50/validation', transform=test_transform)\n",
        "\n",
        "# Create data loaders\n",
        "train_loader = DataLoader(train_dataset, batch_size=32, shuffle=True)\n",
        "test_loader = DataLoader(test_dataset, batch_size=32, shuffle=False)"
      ]
    },
    {
      "cell_type": "code",
      "execution_count": null,
      "id": "cf229497-4b6e-443d-b330-66b6fa139fcd",
      "metadata": {
        "id": "cf229497-4b6e-443d-b330-66b6fa139fcd"
      },
      "outputs": [],
      "source": []
    },
    {
      "cell_type": "markdown",
      "id": "6ea0dde8-29e7-4096-bd15-6a5ed74655f0",
      "metadata": {
        "id": "6ea0dde8-29e7-4096-bd15-6a5ed74655f0"
      },
      "source": [
        "## Model"
      ]
    },
    {
      "cell_type": "code",
      "execution_count": 5,
      "id": "667fc692-e195-4fe1-94c0-1fda94be7849",
      "metadata": {
        "id": "667fc692-e195-4fe1-94c0-1fda94be7849",
        "outputId": "9c699fd5-f043-414a-b981-324b9daa5b91"
      },
      "outputs": [
        {
          "name": "stdout",
          "output_type": "stream",
          "text": [
            ": Trainable\n",
            "0: Not trainable\n",
            "1: Not trainable\n",
            "2: Not trainable\n",
            "3: Not trainable\n",
            "4: Not trainable\n",
            "5: Not trainable\n",
            "6: Not trainable\n",
            "7: Not trainable\n",
            "8: Not trainable\n",
            "9: Not trainable\n",
            "10: Trainable\n",
            "11: Not trainable\n",
            "12: Trainable\n",
            "13: Not trainable\n",
            "14: Trainable\n",
            "15: Not trainable\n",
            "16: Not trainable\n",
            "17: Trainable\n",
            "18: Not trainable\n",
            "19: Trainable\n",
            "20: Not trainable\n",
            "21: Trainable\n",
            "22: Not trainable\n",
            "23: Not trainable\n",
            "24: Trainable\n",
            "25: Not trainable\n",
            "26: Trainable\n",
            "27: Not trainable\n",
            "28: Trainable\n",
            "29: Not trainable\n",
            "30: Not trainable\n"
          ]
        }
      ],
      "source": [
        "vgg16 = models.vgg16(weights=models.VGG16_Weights.DEFAULT)\n",
        "f_extractor = vgg16.features\n",
        "\n",
        "layer_count = 0\n",
        "for child in f_extractor.children():\n",
        "    if layer_count < 10:\n",
        "        for param in child.parameters():\n",
        "            param.requires_grad = False\n",
        "    layer_count += 1\n",
        "\n",
        "for name, module in f_extractor.named_modules():\n",
        "    if hasattr(module, 'parameters'):\n",
        "        is_trainable = any(param.requires_grad for param in module.parameters())\n",
        "        print(f\"{name}: {'Trainable' if is_trainable else 'Not trainable'}\")"
      ]
    },
    {
      "cell_type": "code",
      "execution_count": 6,
      "id": "c8516821-d41b-42a8-9e51-ddfb8f9ec87e",
      "metadata": {
        "id": "c8516821-d41b-42a8-9e51-ddfb8f9ec87e",
        "outputId": "960ccb27-ef68-43e5-98a1-9913189344e2"
      },
      "outputs": [
        {
          "name": "stdout",
          "output_type": "stream",
          "text": [
            "----------------------------------------------------------------\n",
            "        Layer (type)               Output Shape         Param #\n",
            "================================================================\n",
            "            Conv2d-1         [-1, 64, 224, 224]           1,792\n",
            "              ReLU-2         [-1, 64, 224, 224]               0\n",
            "            Conv2d-3         [-1, 64, 224, 224]          36,928\n",
            "              ReLU-4         [-1, 64, 224, 224]               0\n",
            "         MaxPool2d-5         [-1, 64, 112, 112]               0\n",
            "            Conv2d-6        [-1, 128, 112, 112]          73,856\n",
            "              ReLU-7        [-1, 128, 112, 112]               0\n",
            "            Conv2d-8        [-1, 128, 112, 112]         147,584\n",
            "              ReLU-9        [-1, 128, 112, 112]               0\n",
            "        MaxPool2d-10          [-1, 128, 56, 56]               0\n",
            "           Conv2d-11          [-1, 256, 56, 56]         295,168\n",
            "             ReLU-12          [-1, 256, 56, 56]               0\n",
            "           Conv2d-13          [-1, 256, 56, 56]         590,080\n",
            "             ReLU-14          [-1, 256, 56, 56]               0\n",
            "           Conv2d-15          [-1, 256, 56, 56]         590,080\n",
            "             ReLU-16          [-1, 256, 56, 56]               0\n",
            "        MaxPool2d-17          [-1, 256, 28, 28]               0\n",
            "           Conv2d-18          [-1, 512, 28, 28]       1,180,160\n",
            "             ReLU-19          [-1, 512, 28, 28]               0\n",
            "           Conv2d-20          [-1, 512, 28, 28]       2,359,808\n",
            "             ReLU-21          [-1, 512, 28, 28]               0\n",
            "           Conv2d-22          [-1, 512, 28, 28]       2,359,808\n",
            "             ReLU-23          [-1, 512, 28, 28]               0\n",
            "        MaxPool2d-24          [-1, 512, 14, 14]               0\n",
            "           Conv2d-25          [-1, 512, 14, 14]       2,359,808\n",
            "             ReLU-26          [-1, 512, 14, 14]               0\n",
            "           Conv2d-27          [-1, 512, 14, 14]       2,359,808\n",
            "             ReLU-28          [-1, 512, 14, 14]               0\n",
            "           Conv2d-29          [-1, 512, 14, 14]       2,359,808\n",
            "             ReLU-30          [-1, 512, 14, 14]               0\n",
            "        MaxPool2d-31            [-1, 512, 7, 7]               0\n",
            "          Flatten-32                [-1, 25088]               0\n",
            "          Dropout-33                [-1, 25088]               0\n",
            "           Linear-34                  [-1, 512]      12,845,568\n",
            "             ReLU-35                  [-1, 512]               0\n",
            "          Dropout-36                  [-1, 512]               0\n",
            "           Linear-37                    [-1, 2]           1,026\n",
            "================================================================\n",
            "Total params: 27,561,282\n",
            "Trainable params: 27,301,122\n",
            "Non-trainable params: 260,160\n",
            "----------------------------------------------------------------\n",
            "Input size (MB): 0.57\n",
            "Forward/backward pass size (MB): 218.79\n",
            "Params size (MB): 105.14\n",
            "Estimated Total Size (MB): 324.50\n",
            "----------------------------------------------------------------\n"
          ]
        }
      ],
      "source": [
        "model = nn.Sequential(f_extractor,\n",
        "                      nn.Flatten(),\n",
        "                      nn.Dropout(0.3),\n",
        "                      nn.Linear(512*7*7, 512),\n",
        "                      nn.ReLU(),\n",
        "                      nn.Dropout(0.3),\n",
        "                      nn.Linear(512, 2))\n",
        "model.to(device)\n",
        "summary(model, (3, 224, 224))"
      ]
    },
    {
      "cell_type": "code",
      "execution_count": null,
      "id": "9b8b7cc7-f67c-4ba0-ba21-ac2ed717f674",
      "metadata": {
        "id": "9b8b7cc7-f67c-4ba0-ba21-ac2ed717f674"
      },
      "outputs": [],
      "source": []
    },
    {
      "cell_type": "markdown",
      "id": "43c7b151-a199-4e2a-8015-fdfb5f166284",
      "metadata": {
        "id": "43c7b151-a199-4e2a-8015-fdfb5f166284"
      },
      "source": [
        "# Train"
      ]
    },
    {
      "cell_type": "code",
      "execution_count": 10,
      "id": "1464e2bd-b627-475d-9941-f2a930d69a14",
      "metadata": {
        "id": "1464e2bd-b627-475d-9941-f2a930d69a14"
      },
      "outputs": [],
      "source": [
        "criterion = nn.CrossEntropyLoss()\n",
        "optimizer = Adam(model.parameters(), lr=1e-5)"
      ]
    },
    {
      "cell_type": "code",
      "execution_count": 11,
      "id": "04744c84-1e6d-4bfb-8dd5-abbdc91f102e",
      "metadata": {
        "id": "04744c84-1e6d-4bfb-8dd5-abbdc91f102e"
      },
      "outputs": [],
      "source": [
        "def evaluate(model, test_loader, criterion):\n",
        "    model.eval()\n",
        "    test_loss = 0.0\n",
        "    running_correct = 0\n",
        "    total = 0\n",
        "    with torch.no_grad():\n",
        "        for images, labels in test_loader:\n",
        "            images, labels = images.to(device), labels.to(device)\n",
        "\n",
        "            outputs = model(images)\n",
        "            loss = criterion(outputs, labels)\n",
        "            test_loss += loss.item()\n",
        "\n",
        "            _, predicted = torch.max(outputs.data, 1)\n",
        "            total += labels.size(0)\n",
        "            running_correct += (predicted == labels).sum().item()\n",
        "\n",
        "    accuracy = 100 * running_correct / total\n",
        "    test_loss = test_loss / len(test_loader)\n",
        "    return test_loss, accuracy"
      ]
    },
    {
      "cell_type": "code",
      "execution_count": 12,
      "id": "f2402591-e7f7-4bdd-8962-c029cfcd9307",
      "metadata": {
        "id": "f2402591-e7f7-4bdd-8962-c029cfcd9307"
      },
      "outputs": [],
      "source": [
        "train_losses = []\n",
        "train_accuracies = []\n",
        "test_losses = []\n",
        "test_accuracies = []\n",
        "max_epoch = 10"
      ]
    },
    {
      "cell_type": "code",
      "execution_count": 13,
      "id": "190a58e1-0864-4818-a8d2-0f83212c6d13",
      "metadata": {
        "id": "190a58e1-0864-4818-a8d2-0f83212c6d13",
        "outputId": "a7cfba27-3d76-41f0-b22e-806dda4e97db"
      },
      "outputs": [
        {
          "name": "stdout",
          "output_type": "stream",
          "text": [
            "Epoch [1/10], Loss: 0.8078, Accuracy: 41.00%, Test Loss: 0.5911, Test Accuracy: 69.70%\n",
            "Epoch [2/10], Loss: 0.5328, Accuracy: 74.00%, Test Loss: 0.4907, Test Accuracy: 87.00%\n",
            "Epoch [3/10], Loss: 0.3989, Accuracy: 91.00%, Test Loss: 0.4084, Test Accuracy: 92.70%\n",
            "Epoch [4/10], Loss: 0.3188, Accuracy: 98.00%, Test Loss: 0.3364, Test Accuracy: 94.20%\n",
            "Epoch [5/10], Loss: 0.2581, Accuracy: 96.00%, Test Loss: 0.2747, Test Accuracy: 95.50%\n",
            "Epoch [6/10], Loss: 0.1672, Accuracy: 99.00%, Test Loss: 0.2225, Test Accuracy: 95.70%\n",
            "Epoch [7/10], Loss: 0.1332, Accuracy: 98.00%, Test Loss: 0.1810, Test Accuracy: 95.80%\n",
            "Epoch [8/10], Loss: 0.1462, Accuracy: 99.00%, Test Loss: 0.1518, Test Accuracy: 95.90%\n",
            "Epoch [9/10], Loss: 0.0711, Accuracy: 99.00%, Test Loss: 0.1348, Test Accuracy: 96.10%\n",
            "Epoch [10/10], Loss: 0.0604, Accuracy: 100.00%, Test Loss: 0.1268, Test Accuracy: 95.80%\n"
          ]
        }
      ],
      "source": [
        "for epoch in range(max_epoch):\n",
        "    model.train()\n",
        "    running_loss = 0.0\n",
        "    running_correct = 0   \n",
        "    total = 0             \n",
        "\n",
        "    for i, (inputs, labels) in enumerate(train_loader, 0):\n",
        "        inputs, labels = inputs.to(device), labels.to(device)\n",
        "\n",
        "        optimizer.zero_grad()\n",
        "\n",
        "        outputs = model(inputs)\n",
        "        loss = criterion(outputs, labels)\n",
        "        running_loss += loss.item()\n",
        "\n",
        "        loss.backward()\n",
        "        optimizer.step()\n",
        "\n",
        "        _, predicted = torch.max(outputs.data, 1)\n",
        "        total += labels.size(0)\n",
        "        running_correct += (predicted == labels).sum().item()\n",
        "\n",
        "\n",
        "    epoch_accuracy = 100 * running_correct / total\n",
        "    epoch_loss = running_loss / (i + 1)\n",
        "\n",
        "    test_loss, test_accuracy = evaluate(model, test_loader, criterion)\n",
        "    print(f\"Epoch [{epoch + 1}/{max_epoch}], Loss: {epoch_loss:.4f}, Accuracy: {epoch_accuracy:.2f}%, Test Loss: {test_loss:.4f}, Test Accuracy: {test_accuracy:.2f}%\")\n",
        "\n",
        "    train_losses.append(epoch_loss)\n",
        "    train_accuracies.append(epoch_accuracy)\n",
        "    test_losses.append(test_loss)\n",
        "    test_accuracies.append(test_accuracy)"
      ]
    },
    {
      "cell_type": "code",
      "execution_count": 14,
      "id": "DkC3_902Lgn-",
      "metadata": {
        "id": "DkC3_902Lgn-",
        "outputId": "388d6d25-1a57-4d6b-8c90-39846acf96cd"
      },
      "outputs": [
        {
          "data": {
            "text/plain": [
              "<matplotlib.legend.Legend at 0x22799eb7790>"
            ]
          },
          "execution_count": 14,
          "metadata": {},
          "output_type": "execute_result"
        },
        {
          "data": {
            "image/png": "[encoded data removed]",
            "text/plain": [
              "<Figure size 640x480 with 1 Axes>"
            ]
          },
          "metadata": {},
          "output_type": "display_data"
        }
      ],
      "source": [
        "import matplotlib.pyplot as plt\n",
        "\n",
        "plt.plot(train_losses, label='train_losses')\n",
        "plt.plot(test_losses, label='test_losses')\n",
        "plt.legend()"
      ]
    },
    {
      "cell_type": "code",
      "execution_count": 15,
      "id": "794f4e81",
      "metadata": {
        "id": "794f4e81",
        "outputId": "782afa91-d37a-4782-8028-62657124919e"
      },
      "outputs": [
        {
          "data": {
            "text/plain": [
              "<matplotlib.legend.Legend at 0x2285ea2ab00>"
            ]
          },
          "execution_count": 15,
          "metadata": {},
          "output_type": "execute_result"
        },
        {
          "data": {
            "image/png": "[encoded data removed]",
            "text/plain": [
              "<Figure size 640x480 with 1 Axes>"
            ]
          },
          "metadata": {},
          "output_type": "display_data"
        }
      ],
      "source": [
        "import matplotlib.pyplot as plt\n",
        "\n",
        "plt.plot(train_accuracies, label='train_accuracy')\n",
        "plt.plot(test_accuracies, label='test_accuracy')\n",
        "plt.legend()"
      ]
    },
    {
      "cell_type": "code",
      "execution_count": null,
      "id": "a2ec7c96-ff05-4863-92e7-c45f2f0e3d03",
      "metadata": {
        "id": "a2ec7c96-ff05-4863-92e7-c45f2f0e3d03"
      },
      "outputs": [],
      "source": []
    },
    {
      "cell_type": "code",
      "execution_count": null,
      "id": "8c86325e-7b6c-43a6-b315-93e02bcdb264",
      "metadata": {
        "id": "8c86325e-7b6c-43a6-b315-93e02bcdb264"
      },
      "outputs": [],
      "source": []
    },
    {
      "cell_type": "code",
      "execution_count": null,
      "id": "d2a401f6-9ed4-4dee-9e95-f65826e2d92d",
      "metadata": {
        "id": "d2a401f6-9ed4-4dee-9e95-f65826e2d92d",
        "outputId": "490e4d7e-c408-4533-f096-6e0b638ef540"
      },
      "outputs": [
        {
          "data": {
            "text/plain": [
              "<matplotlib.legend.Legend at 0x7fe5e6d97640>"
            ]
          },
          "execution_count": 11,
          "metadata": {},
          "output_type": "execute_result"
        }
      ],
      "source": [
        "import matplotlib.pyplot as plt\n",
        "%matplotlib qt\n",
        "\n",
        "plt.plot(train_losses, label='train_losses')\n",
        "plt.plot(test_losses, label='test_losses')\n",
        "plt.legend()"
      ]
    },
    {
      "cell_type": "code",
      "execution_count": null,
      "id": "b4d1601e-a633-4f04-b476-7288856e1971",
      "metadata": {
        "id": "b4d1601e-a633-4f04-b476-7288856e1971",
        "outputId": "fb58d044-9399-4a96-f61c-4ed0d32a262b"
      },
      "outputs": [
        {
          "data": {
            "text/plain": [
              "<matplotlib.legend.Legend at 0x7fe598f75d20>"
            ]
          },
          "execution_count": 12,
          "metadata": {},
          "output_type": "execute_result"
        }
      ],
      "source": [
        "import matplotlib.pyplot as plt\n",
        "%matplotlib qt\n",
        "\n",
        "plt.plot(train_accuracies, label='train_accuracy')\n",
        "plt.plot(test_accuracies, label='test_accuracy')\n",
        "plt.legend()"
      ]
    },
    {
      "cell_type": "code",
      "execution_count": null,
      "id": "386d038d-d554-4857-ab4b-fe1314e8937c",
      "metadata": {
        "id": "386d038d-d554-4857-ab4b-fe1314e8937c"
      },
      "outputs": [],
      "source": []
    }
  ],
  "metadata": {
    "accelerator": "GPU",
    "colab": {
      "provenance": []
    },
    "gpuClass": "standard",
    "kernelspec": {
      "display_name": "torchenv310",
      "language": "python",
      "name": "python3"
    },
    "language_info": {
      "codemirror_mode": {
        "name": "ipython",
        "version": 3
      },
      "file_extension": ".py",
      "mimetype": "text/x-python",
      "name": "python",
      "nbconvert_exporter": "python",
      "pygments_lexer": "ipython3",
      "version": "3.10.16"
    }
  },
  "nbformat": 4,
  "nbformat_minor": 5
}
